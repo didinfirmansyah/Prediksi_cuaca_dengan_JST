{
  "nbformat": 4,
  "nbformat_minor": 0,
  "metadata": {
    "colab": {
      "name": "NNPrediction.ipynb",
      "provenance": []
    },
    "kernelspec": {
      "name": "python3",
      "display_name": "Python 3"
    }
  },
  "cells": [
    {
      "cell_type": "markdown",
      "metadata": {
        "id": "K9mcf_qDj-Vc",
        "colab_type": "text"
      },
      "source": [
        "PREDIKSI CUACA DENGAN ARTIFICIAL NEURAL NETWORK\n",
        "\n",
        "STEP BY STEP :\n",
        "1. Upload dataset\n"
      ]
    },
    {
      "cell_type": "code",
      "metadata": {
        "id": "WcHzikuKhGR0",
        "colab_type": "code",
        "outputId": "025137ac-4898-410d-dceb-fcc57c5636ee",
        "colab": {
          "resources": {
            "http://localhost:8080/nbextensions/google.colab/files.js": {
              "data": "Ly8gQ29weXJpZ2h0IDIwMTcgR29vZ2xlIExMQwovLwovLyBMaWNlbnNlZCB1bmRlciB0aGUgQXBhY2hlIExpY2Vuc2UsIFZlcnNpb24gMi4wICh0aGUgIkxpY2Vuc2UiKTsKLy8geW91IG1heSBub3QgdXNlIHRoaXMgZmlsZSBleGNlcHQgaW4gY29tcGxpYW5jZSB3aXRoIHRoZSBMaWNlbnNlLgovLyBZb3UgbWF5IG9idGFpbiBhIGNvcHkgb2YgdGhlIExpY2Vuc2UgYXQKLy8KLy8gICAgICBodHRwOi8vd3d3LmFwYWNoZS5vcmcvbGljZW5zZXMvTElDRU5TRS0yLjAKLy8KLy8gVW5sZXNzIHJlcXVpcmVkIGJ5IGFwcGxpY2FibGUgbGF3IG9yIGFncmVlZCB0byBpbiB3cml0aW5nLCBzb2Z0d2FyZQovLyBkaXN0cmlidXRlZCB1bmRlciB0aGUgTGljZW5zZSBpcyBkaXN0cmlidXRlZCBvbiBhbiAiQVMgSVMiIEJBU0lTLAovLyBXSVRIT1VUIFdBUlJBTlRJRVMgT1IgQ09ORElUSU9OUyBPRiBBTlkgS0lORCwgZWl0aGVyIGV4cHJlc3Mgb3IgaW1wbGllZC4KLy8gU2VlIHRoZSBMaWNlbnNlIGZvciB0aGUgc3BlY2lmaWMgbGFuZ3VhZ2UgZ292ZXJuaW5nIHBlcm1pc3Npb25zIGFuZAovLyBsaW1pdGF0aW9ucyB1bmRlciB0aGUgTGljZW5zZS4KCi8qKgogKiBAZmlsZW92ZXJ2aWV3IEhlbHBlcnMgZm9yIGdvb2dsZS5jb2xhYiBQeXRob24gbW9kdWxlLgogKi8KKGZ1bmN0aW9uKHNjb3BlKSB7CmZ1bmN0aW9uIHNwYW4odGV4dCwgc3R5bGVBdHRyaWJ1dGVzID0ge30pIHsKICBjb25zdCBlbGVtZW50ID0gZG9jdW1lbnQuY3JlYXRlRWxlbWVudCgnc3BhbicpOwogIGVsZW1lbnQudGV4dENvbnRlbnQgPSB0ZXh0OwogIGZvciAoY29uc3Qga2V5IG9mIE9iamVjdC5rZXlzKHN0eWxlQXR0cmlidXRlcykpIHsKICAgIGVsZW1lbnQuc3R5bGVba2V5XSA9IHN0eWxlQXR0cmlidXRlc1trZXldOwogIH0KICByZXR1cm4gZWxlbWVudDsKfQoKLy8gTWF4IG51bWJlciBvZiBieXRlcyB3aGljaCB3aWxsIGJlIHVwbG9hZGVkIGF0IGEgdGltZS4KY29uc3QgTUFYX1BBWUxPQURfU0laRSA9IDEwMCAqIDEwMjQ7Ci8vIE1heCBhbW91bnQgb2YgdGltZSB0byBibG9jayB3YWl0aW5nIGZvciB0aGUgdXNlci4KY29uc3QgRklMRV9DSEFOR0VfVElNRU9VVF9NUyA9IDMwICogMTAwMDsKCmZ1bmN0aW9uIF91cGxvYWRGaWxlcyhpbnB1dElkLCBvdXRwdXRJZCkgewogIGNvbnN0IHN0ZXBzID0gdXBsb2FkRmlsZXNTdGVwKGlucHV0SWQsIG91dHB1dElkKTsKICBjb25zdCBvdXRwdXRFbGVtZW50ID0gZG9jdW1lbnQuZ2V0RWxlbWVudEJ5SWQob3V0cHV0SWQpOwogIC8vIENhY2hlIHN0ZXBzIG9uIHRoZSBvdXRwdXRFbGVtZW50IHRvIG1ha2UgaXQgYXZhaWxhYmxlIGZvciB0aGUgbmV4dCBjYWxsCiAgLy8gdG8gdXBsb2FkRmlsZXNDb250aW51ZSBmcm9tIFB5dGhvbi4KICBvdXRwdXRFbGVtZW50LnN0ZXBzID0gc3RlcHM7CgogIHJldHVybiBfdXBsb2FkRmlsZXNDb250aW51ZShvdXRwdXRJZCk7Cn0KCi8vIFRoaXMgaXMgcm91Z2hseSBhbiBhc3luYyBnZW5lcmF0b3IgKG5vdCBzdXBwb3J0ZWQgaW4gdGhlIGJyb3dzZXIgeWV0KSwKLy8gd2hlcmUgdGhlcmUgYXJlIG11bHRpcGxlIGFzeW5jaHJvbm91cyBzdGVwcyBhbmQgdGhlIFB5dGhvbiBzaWRlIGlzIGdvaW5nCi8vIHRvIHBvbGwgZm9yIGNvbXBsZXRpb24gb2YgZWFjaCBzdGVwLgovLyBUaGlzIHVzZXMgYSBQcm9taXNlIHRvIGJsb2NrIHRoZSBweXRob24gc2lkZSBvbiBjb21wbGV0aW9uIG9mIGVhY2ggc3RlcCwKLy8gdGhlbiBwYXNzZXMgdGhlIHJlc3VsdCBvZiB0aGUgcHJldmlvdXMgc3RlcCBhcyB0aGUgaW5wdXQgdG8gdGhlIG5leHQgc3RlcC4KZnVuY3Rpb24gX3VwbG9hZEZpbGVzQ29udGludWUob3V0cHV0SWQpIHsKICBjb25zdCBvdXRwdXRFbGVtZW50ID0gZG9jdW1lbnQuZ2V0RWxlbWVudEJ5SWQob3V0cHV0SWQpOwogIGNvbnN0IHN0ZXBzID0gb3V0cHV0RWxlbWVudC5zdGVwczsKCiAgY29uc3QgbmV4dCA9IHN0ZXBzLm5leHQob3V0cHV0RWxlbWVudC5sYXN0UHJvbWlzZVZhbHVlKTsKICByZXR1cm4gUHJvbWlzZS5yZXNvbHZlKG5leHQudmFsdWUucHJvbWlzZSkudGhlbigodmFsdWUpID0+IHsKICAgIC8vIENhY2hlIHRoZSBsYXN0IHByb21pc2UgdmFsdWUgdG8gbWFrZSBpdCBhdmFpbGFibGUgdG8gdGhlIG5leHQKICAgIC8vIHN0ZXAgb2YgdGhlIGdlbmVyYXRvci4KICAgIG91dHB1dEVsZW1lbnQubGFzdFByb21pc2VWYWx1ZSA9IHZhbHVlOwogICAgcmV0dXJuIG5leHQudmFsdWUucmVzcG9uc2U7CiAgfSk7Cn0KCi8qKgogKiBHZW5lcmF0b3IgZnVuY3Rpb24gd2hpY2ggaXMgY2FsbGVkIGJldHdlZW4gZWFjaCBhc3luYyBzdGVwIG9mIHRoZSB1cGxvYWQKICogcHJvY2Vzcy4KICogQHBhcmFtIHtzdHJpbmd9IGlucHV0SWQgRWxlbWVudCBJRCBvZiB0aGUgaW5wdXQgZmlsZSBwaWNrZXIgZWxlbWVudC4KICogQHBhcmFtIHtzdHJpbmd9IG91dHB1dElkIEVsZW1lbnQgSUQgb2YgdGhlIG91dHB1dCBkaXNwbGF5LgogKiBAcmV0dXJuIHshSXRlcmFibGU8IU9iamVjdD59IEl0ZXJhYmxlIG9mIG5leHQgc3RlcHMuCiAqLwpmdW5jdGlvbiogdXBsb2FkRmlsZXNTdGVwKGlucHV0SWQsIG91dHB1dElkKSB7CiAgY29uc3QgaW5wdXRFbGVtZW50ID0gZG9jdW1lbnQuZ2V0RWxlbWVudEJ5SWQoaW5wdXRJZCk7CiAgaW5wdXRFbGVtZW50LmRpc2FibGVkID0gZmFsc2U7CgogIGNvbnN0IG91dHB1dEVsZW1lbnQgPSBkb2N1bWVudC5nZXRFbGVtZW50QnlJZChvdXRwdXRJZCk7CiAgb3V0cHV0RWxlbWVudC5pbm5lckhUTUwgPSAnJzsKCiAgY29uc3QgcGlja2VkUHJvbWlzZSA9IG5ldyBQcm9taXNlKChyZXNvbHZlKSA9PiB7CiAgICBpbnB1dEVsZW1lbnQuYWRkRXZlbnRMaXN0ZW5lcignY2hhbmdlJywgKGUpID0+IHsKICAgICAgcmVzb2x2ZShlLnRhcmdldC5maWxlcyk7CiAgICB9KTsKICB9KTsKCiAgY29uc3QgY2FuY2VsID0gZG9jdW1lbnQuY3JlYXRlRWxlbWVudCgnYnV0dG9uJyk7CiAgaW5wdXRFbGVtZW50LnBhcmVudEVsZW1lbnQuYXBwZW5kQ2hpbGQoY2FuY2VsKTsKICBjYW5jZWwudGV4dENvbnRlbnQgPSAnQ2FuY2VsIHVwbG9hZCc7CiAgY29uc3QgY2FuY2VsUHJvbWlzZSA9IG5ldyBQcm9taXNlKChyZXNvbHZlKSA9PiB7CiAgICBjYW5jZWwub25jbGljayA9ICgpID0+IHsKICAgICAgcmVzb2x2ZShudWxsKTsKICAgIH07CiAgfSk7CgogIC8vIENhbmNlbCB1cGxvYWQgaWYgdXNlciBoYXNuJ3QgcGlja2VkIGFueXRoaW5nIGluIHRpbWVvdXQuCiAgY29uc3QgdGltZW91dFByb21pc2UgPSBuZXcgUHJvbWlzZSgocmVzb2x2ZSkgPT4gewogICAgc2V0VGltZW91dCgoKSA9PiB7CiAgICAgIHJlc29sdmUobnVsbCk7CiAgICB9LCBGSUxFX0NIQU5HRV9USU1FT1VUX01TKTsKICB9KTsKCiAgLy8gV2FpdCBmb3IgdGhlIHVzZXIgdG8gcGljayB0aGUgZmlsZXMuCiAgY29uc3QgZmlsZXMgPSB5aWVsZCB7CiAgICBwcm9taXNlOiBQcm9taXNlLnJhY2UoW3BpY2tlZFByb21pc2UsIHRpbWVvdXRQcm9taXNlLCBjYW5jZWxQcm9taXNlXSksCiAgICByZXNwb25zZTogewogICAgICBhY3Rpb246ICdzdGFydGluZycsCiAgICB9CiAgfTsKCiAgaWYgKCFmaWxlcykgewogICAgcmV0dXJuIHsKICAgICAgcmVzcG9uc2U6IHsKICAgICAgICBhY3Rpb246ICdjb21wbGV0ZScsCiAgICAgIH0KICAgIH07CiAgfQoKICBjYW5jZWwucmVtb3ZlKCk7CgogIC8vIERpc2FibGUgdGhlIGlucHV0IGVsZW1lbnQgc2luY2UgZnVydGhlciBwaWNrcyBhcmUgbm90IGFsbG93ZWQuCiAgaW5wdXRFbGVtZW50LmRpc2FibGVkID0gdHJ1ZTsKCiAgZm9yIChjb25zdCBmaWxlIG9mIGZpbGVzKSB7CiAgICBjb25zdCBsaSA9IGRvY3VtZW50LmNyZWF0ZUVsZW1lbnQoJ2xpJyk7CiAgICBsaS5hcHBlbmQoc3BhbihmaWxlLm5hbWUsIHtmb250V2VpZ2h0OiAnYm9sZCd9KSk7CiAgICBsaS5hcHBlbmQoc3BhbigKICAgICAgICBgKCR7ZmlsZS50eXBlIHx8ICduL2EnfSkgLSAke2ZpbGUuc2l6ZX0gYnl0ZXMsIGAgKwogICAgICAgIGBsYXN0IG1vZGlmaWVkOiAkewogICAgICAgICAgICBmaWxlLmxhc3RNb2RpZmllZERhdGUgPyBmaWxlLmxhc3RNb2RpZmllZERhdGUudG9Mb2NhbGVEYXRlU3RyaW5nKCkgOgogICAgICAgICAgICAgICAgICAgICAgICAgICAgICAgICAgICAnbi9hJ30gLSBgKSk7CiAgICBjb25zdCBwZXJjZW50ID0gc3BhbignMCUgZG9uZScpOwogICAgbGkuYXBwZW5kQ2hpbGQocGVyY2VudCk7CgogICAgb3V0cHV0RWxlbWVudC5hcHBlbmRDaGlsZChsaSk7CgogICAgY29uc3QgZmlsZURhdGFQcm9taXNlID0gbmV3IFByb21pc2UoKHJlc29sdmUpID0+IHsKICAgICAgY29uc3QgcmVhZGVyID0gbmV3IEZpbGVSZWFkZXIoKTsKICAgICAgcmVhZGVyLm9ubG9hZCA9IChlKSA9PiB7CiAgICAgICAgcmVzb2x2ZShlLnRhcmdldC5yZXN1bHQpOwogICAgICB9OwogICAgICByZWFkZXIucmVhZEFzQXJyYXlCdWZmZXIoZmlsZSk7CiAgICB9KTsKICAgIC8vIFdhaXQgZm9yIHRoZSBkYXRhIHRvIGJlIHJlYWR5LgogICAgbGV0IGZpbGVEYXRhID0geWllbGQgewogICAgICBwcm9taXNlOiBmaWxlRGF0YVByb21pc2UsCiAgICAgIHJlc3BvbnNlOiB7CiAgICAgICAgYWN0aW9uOiAnY29udGludWUnLAogICAgICB9CiAgICB9OwoKICAgIC8vIFVzZSBhIGNodW5rZWQgc2VuZGluZyB0byBhdm9pZCBtZXNzYWdlIHNpemUgbGltaXRzLiBTZWUgYi82MjExNTY2MC4KICAgIGxldCBwb3NpdGlvbiA9IDA7CiAgICB3aGlsZSAocG9zaXRpb24gPCBmaWxlRGF0YS5ieXRlTGVuZ3RoKSB7CiAgICAgIGNvbnN0IGxlbmd0aCA9IE1hdGgubWluKGZpbGVEYXRhLmJ5dGVMZW5ndGggLSBwb3NpdGlvbiwgTUFYX1BBWUxPQURfU0laRSk7CiAgICAgIGNvbnN0IGNodW5rID0gbmV3IFVpbnQ4QXJyYXkoZmlsZURhdGEsIHBvc2l0aW9uLCBsZW5ndGgpOwogICAgICBwb3NpdGlvbiArPSBsZW5ndGg7CgogICAgICBjb25zdCBiYXNlNjQgPSBidG9hKFN0cmluZy5mcm9tQ2hhckNvZGUuYXBwbHkobnVsbCwgY2h1bmspKTsKICAgICAgeWllbGQgewogICAgICAgIHJlc3BvbnNlOiB7CiAgICAgICAgICBhY3Rpb246ICdhcHBlbmQnLAogICAgICAgICAgZmlsZTogZmlsZS5uYW1lLAogICAgICAgICAgZGF0YTogYmFzZTY0LAogICAgICAgIH0sCiAgICAgIH07CiAgICAgIHBlcmNlbnQudGV4dENvbnRlbnQgPQogICAgICAgICAgYCR7TWF0aC5yb3VuZCgocG9zaXRpb24gLyBmaWxlRGF0YS5ieXRlTGVuZ3RoKSAqIDEwMCl9JSBkb25lYDsKICAgIH0KICB9CgogIC8vIEFsbCBkb25lLgogIHlpZWxkIHsKICAgIHJlc3BvbnNlOiB7CiAgICAgIGFjdGlvbjogJ2NvbXBsZXRlJywKICAgIH0KICB9Owp9CgpzY29wZS5nb29nbGUgPSBzY29wZS5nb29nbGUgfHwge307CnNjb3BlLmdvb2dsZS5jb2xhYiA9IHNjb3BlLmdvb2dsZS5jb2xhYiB8fCB7fTsKc2NvcGUuZ29vZ2xlLmNvbGFiLl9maWxlcyA9IHsKICBfdXBsb2FkRmlsZXMsCiAgX3VwbG9hZEZpbGVzQ29udGludWUsCn07Cn0pKHNlbGYpOwo=",
              "ok": true,
              "headers": [
                [
                  "content-type",
                  "application/javascript"
                ]
              ],
              "status": 200,
              "status_text": ""
            }
          },
          "base_uri": "https://localhost:8080/",
          "height": 74
        }
      },
      "source": [
        "\n",
        "import pandas as pd\n",
        "from google.colab import files\n",
        "\n",
        "files = files.upload()\n",
        "\n"
      ],
      "execution_count": 2,
      "outputs": [
        {
          "output_type": "display_data",
          "data": {
            "text/html": [
              "\n",
              "     <input type=\"file\" id=\"files-34a71563-1cc7-4afb-a0fc-a0a7678b80c1\" name=\"files[]\" multiple disabled />\n",
              "     <output id=\"result-34a71563-1cc7-4afb-a0fc-a0a7678b80c1\">\n",
              "      Upload widget is only available when the cell has been executed in the\n",
              "      current browser session. Please rerun this cell to enable.\n",
              "      </output>\n",
              "      <script src=\"/nbextensions/google.colab/files.js\"></script> "
            ],
            "text/plain": [
              "<IPython.core.display.HTML object>"
            ]
          },
          "metadata": {
            "tags": []
          }
        },
        {
          "output_type": "stream",
          "text": [
            "Saving day.csv to day.csv\n"
          ],
          "name": "stdout"
        }
      ]
    },
    {
      "cell_type": "markdown",
      "metadata": {
        "id": "PD8sRnohlsyu",
        "colab_type": "text"
      },
      "source": [
        "2. Pastikan dataset bisa terbaca"
      ]
    },
    {
      "cell_type": "code",
      "metadata": {
        "id": "ZTj2xO_ZjXAE",
        "colab_type": "code",
        "outputId": "0a5fc859-f61f-45c9-a506-54ee47dd939c",
        "colab": {
          "base_uri": "https://localhost:8080/",
          "height": 255
        }
      },
      "source": [
        "\n",
        "import io\n",
        "\n",
        "data = pd.read_csv(io.BytesIO(files['day.csv']))\n",
        "data1 = data\n",
        "data2 = data1\n",
        "data3 = data2\n",
        "\n",
        "print(data)"
      ],
      "execution_count": 3,
      "outputs": [
        {
          "output_type": "stream",
          "text": [
            "     instant      dteday  season  yr  ...  windspeed  casual  registered   cnt\n",
            "0          1  2011-01-01       1   0  ...   0.160446     331         654   985\n",
            "1          2  2011-01-02       1   0  ...   0.248539     131         670   801\n",
            "2          3  2011-01-03       1   0  ...   0.248309     120        1229  1349\n",
            "3          4  2011-01-04       1   0  ...   0.160296     108        1454  1562\n",
            "4          5  2011-01-05       1   0  ...   0.186900      82        1518  1600\n",
            "..       ...         ...     ...  ..  ...        ...     ...         ...   ...\n",
            "726      727  2012-12-27       1   1  ...   0.350133     247        1867  2114\n",
            "727      728  2012-12-28       1   1  ...   0.155471     644        2451  3095\n",
            "728      729  2012-12-29       1   1  ...   0.124383     159        1182  1341\n",
            "729      730  2012-12-30       1   1  ...   0.350754     364        1432  1796\n",
            "730      731  2012-12-31       1   1  ...   0.154846     439        2290  2729\n",
            "\n",
            "[731 rows x 16 columns]\n"
          ],
          "name": "stdout"
        }
      ]
    },
    {
      "cell_type": "markdown",
      "metadata": {
        "id": "-Ssih-N6kSLI",
        "colab_type": "text"
      },
      "source": [
        "Data sudah berhasil dibaca, setelah itu pilih data yang akan dipakai. untuk memprediksi cuaca kita membutuhkan data\n",
        "1. Temperature\n",
        "2. Kelembapan\n",
        "3. Kecepatan angin\n",
        "\n",
        "dan data targer yaitu\n",
        "4. cuaca"
      ]
    },
    {
      "cell_type": "code",
      "metadata": {
        "id": "DSGpjqbVk3Ma",
        "colab_type": "code",
        "outputId": "821e8ac6-1950-420d-e18a-776a14e2c083",
        "colab": {
          "base_uri": "https://localhost:8080/",
          "height": 272
        }
      },
      "source": [
        "dataset  = data[['temp','hum','windspeed','weathersit']]\n",
        "print('----------------------------DATASET--------------------------------------------')\n",
        "print(dataset)"
      ],
      "execution_count": 4,
      "outputs": [
        {
          "output_type": "stream",
          "text": [
            "----------------------------DATASET--------------------------------------------\n",
            "         temp       hum  windspeed  weathersit\n",
            "0    0.344167  0.805833   0.160446           2\n",
            "1    0.363478  0.696087   0.248539           2\n",
            "2    0.196364  0.437273   0.248309           1\n",
            "3    0.200000  0.590435   0.160296           1\n",
            "4    0.226957  0.436957   0.186900           1\n",
            "..        ...       ...        ...         ...\n",
            "726  0.254167  0.652917   0.350133           2\n",
            "727  0.253333  0.590000   0.155471           2\n",
            "728  0.253333  0.752917   0.124383           2\n",
            "729  0.255833  0.483333   0.350754           1\n",
            "730  0.215833  0.577500   0.154846           2\n",
            "\n",
            "[731 rows x 4 columns]\n"
          ],
          "name": "stdout"
        }
      ]
    },
    {
      "cell_type": "markdown",
      "metadata": {
        "id": "iVv8jaljmKpJ",
        "colab_type": "text"
      },
      "source": [
        "3. Transformasi data ke array matrix\n"
      ]
    },
    {
      "cell_type": "code",
      "metadata": {
        "id": "GZVagQ04mPSq",
        "colab_type": "code",
        "outputId": "c683ddd8-c08d-4e3c-d346-f3b70a0f3115",
        "colab": {
          "base_uri": "https://localhost:8080/",
          "height": 136
        }
      },
      "source": [
        "import numpy as np\n",
        "\n",
        "temperature = np.array(data['temp'])\n",
        "Kelembapan = np.array(data1['hum'])\n",
        "kecepatan_angin = np.array(data2['windspeed'])\n",
        "Cuaca = np.array(data3['weathersit'])\n",
        "\n",
        "\n",
        "matrix = [temperature,Kelembapan,kecepatan_angin,Cuaca]\n",
        "print(np.array(matrix,ndmin=2).T)"
      ],
      "execution_count": 5,
      "outputs": [
        {
          "output_type": "stream",
          "text": [
            "[[0.344167 0.805833 0.160446 2.      ]\n",
            " [0.363478 0.696087 0.248539 2.      ]\n",
            " [0.196364 0.437273 0.248309 1.      ]\n",
            " ...\n",
            " [0.253333 0.752917 0.124383 2.      ]\n",
            " [0.255833 0.483333 0.350754 1.      ]\n",
            " [0.215833 0.5775   0.154846 2.      ]]\n"
          ],
          "name": "stdout"
        }
      ]
    },
    {
      "cell_type": "markdown",
      "metadata": {
        "id": "xKCLyw_zpHKM",
        "colab_type": "text"
      },
      "source": [
        "4. inisialisasi komponen ANN\n",
        "    a. Learning rate\n",
        "    b. bias\n",
        "    c. bobot "
      ]
    },
    {
      "cell_type": "code",
      "metadata": {
        "id": "oAzzUVgQpeFL",
        "colab_type": "code",
        "colab": {}
      },
      "source": [
        "import random\n",
        "import os\n",
        "\n",
        "learning_rate = 1\n",
        "bias = 1\n",
        "weights = [random.random(),random.random(),random.random(),random.random()]"
      ],
      "execution_count": 0,
      "outputs": []
    },
    {
      "cell_type": "markdown",
      "metadata": {
        "id": "iW8yI5457RYe",
        "colab_type": "text"
      },
      "source": [
        "4 bobot untuk 3 input layer dan 4 hidden layer"
      ]
    },
    {
      "cell_type": "markdown",
      "metadata": {
        "id": "tWKKsxSlp3fa",
        "colab_type": "text"
      },
      "source": [
        "5. buat fungsi Perceptron"
      ]
    },
    {
      "cell_type": "code",
      "metadata": {
        "colab_type": "code",
        "id": "9K2ksUv_9wVL",
        "colab": {}
      },
      "source": [
        "def Perceptron(input1,input2,input3,output):\n",
        "  outputP = input1*weights[0]+input2*weights[1]+input3*weights[2]+bias*weights[3]\n",
        "  outputP = 1/(1+np.exp(-outputP)) # Sigmoid\n",
        "  \n",
        "  error = output - outputP\n",
        "  weights[0]+= error*input1*learning_rate\n",
        "  weights[1]+= error*input2*learning_rate\n",
        "  weights[2]+= error*input3*learning_rate\n",
        "  weights[3]+= error*bias*learning_rate"
      ],
      "execution_count": 0,
      "outputs": []
    },
    {
      "cell_type": "markdown",
      "metadata": {
        "id": "sT07xqACnEkT",
        "colab_type": "text"
      },
      "source": [
        "6. buat perulangan untuk melatih data"
      ]
    },
    {
      "cell_type": "code",
      "metadata": {
        "id": "thLAy_rvnHUj",
        "colab_type": "code",
        "colab": {}
      },
      "source": [
        "for i in range(50):\n",
        "  Perceptron(temperature,Kelembapan,kecepatan_angin,Cuaca)\n",
        "  Perceptron(temperature,Kelembapan,kecepatan_angin,Cuaca)\n",
        "  Perceptron(temperature,Kelembapan,kecepatan_angin,Cuaca)\n",
        "  Perceptron(temperature,Kelembapan,kecepatan_angin,Cuaca)\n",
        "  Perceptron(temperature,Kelembapan,kecepatan_angin,Cuaca)"
      ],
      "execution_count": 0,
      "outputs": []
    },
    {
      "cell_type": "markdown",
      "metadata": {
        "id": "7Ddw9_yWq5Z6",
        "colab_type": "text"
      },
      "source": [
        "7. buat inputan"
      ]
    },
    {
      "cell_type": "code",
      "metadata": {
        "id": "ZmllC7ZTq8Zs",
        "colab_type": "code",
        "outputId": "93489331-6e97-49d9-ed36-a1d6e6c14f86",
        "colab": {
          "base_uri": "https://localhost:8080/",
          "height": 102
        }
      },
      "source": [
        "x = float(input(\"Masukan Nilai Temperature     :\"))\n",
        "y = float(input(\"Masukan Nilai Kelembapan      :\"))\n",
        "z = float(input(\"Masukan Nilai Kecepatan Angin :\"))\n",
        "\n",
        "outputP = x*weights[0]+y*weights[1]*z*weights[2]+bias*weights[3]\n",
        "outputP = 1/(1+np.exp(-outputP))\n",
        "\n",
        "if outputP[0] <= 1:\n",
        "  outputP = 1\n",
        "  outputP =str('Cerah') \n",
        "elif outputP[0] ==2:\n",
        "  outputP = 2\n",
        "  outputP =str('Berawan')\n",
        "elif outputP[0] ==3:\n",
        "  outputP = 3\n",
        "  outputP =str('Gerimis')\n",
        "else:\n",
        "  outputP = 4\n",
        "  outputP =str('Hujan')\n",
        "\n",
        "print(\"\")\n",
        "print(\"Temperature :\",x,\"Kelembapan :\",y,\"WindSpeed :\",z,\"Prediksi :\",outputP)"
      ],
      "execution_count": 17,
      "outputs": [
        {
          "output_type": "stream",
          "text": [
            "Masukan Nilai Temperature     :0.8976\n",
            "Masukan Nilai Kelembapan      :0.8765\n",
            "Masukan Nilai Kecepatan Angin :0.6557\n",
            "\n",
            "Temperature : 0.8976 Kelembapan : 0.8765 WindSpeed : 0.6557 Prediksi : Cerah\n"
          ],
          "name": "stdout"
        }
      ]
    },
    {
      "cell_type": "markdown",
      "metadata": {
        "id": "0OBlQIbD989L",
        "colab_type": "text"
      },
      "source": [
        "Terimakasih...\n",
        "itulah program sederhana yang dibuat dengan ANN"
      ]
    }
  ]
}